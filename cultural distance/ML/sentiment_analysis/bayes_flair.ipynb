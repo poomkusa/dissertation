{
  "nbformat": 4,
  "nbformat_minor": 0,
  "metadata": {
    "colab": {
      "name": "bayes-flair.ipynb",
      "provenance": []
    },
    "kernelspec": {
      "name": "python3",
      "display_name": "Python 3"
    }
  },
  "cells": [
    {
      "cell_type": "code",
      "metadata": {
        "id": "iDAxGvRYjSC1",
        "colab_type": "code",
        "outputId": "543c230f-a34d-42ce-d8d7-bdc85c8bc038",
        "colab": {
          "base_uri": "https://localhost:8080/",
          "height": 34
        }
      },
      "source": [
        "from google.colab import drive\n",
        "drive.mount('/content/drive')"
      ],
      "execution_count": 0,
      "outputs": [
        {
          "output_type": "stream",
          "text": [
            "Drive already mounted at /content/drive; to attempt to forcibly remount, call drive.mount(\"/content/drive\", force_remount=True).\n"
          ],
          "name": "stdout"
        }
      ]
    },
    {
      "cell_type": "code",
      "metadata": {
        "id": "eheXLbAux7dh",
        "colab_type": "code",
        "outputId": "6c02709b-5c87-49c9-bca3-3ed8cd1e5d29",
        "colab": {
          "base_uri": "https://localhost:8080/",
          "height": 102
        }
      },
      "source": [
        "!pip install textblob\n",
        "!pip install nltk"
      ],
      "execution_count": 0,
      "outputs": [
        {
          "output_type": "stream",
          "text": [
            "Requirement already satisfied: textblob in /usr/local/lib/python3.6/dist-packages (0.15.3)\n",
            "Requirement already satisfied: nltk>=3.1 in /usr/local/lib/python3.6/dist-packages (from textblob) (3.2.5)\n",
            "Requirement already satisfied: six in /usr/local/lib/python3.6/dist-packages (from nltk>=3.1->textblob) (1.12.0)\n",
            "Requirement already satisfied: nltk in /usr/local/lib/python3.6/dist-packages (3.2.5)\n",
            "Requirement already satisfied: six in /usr/local/lib/python3.6/dist-packages (from nltk) (1.12.0)\n"
          ],
          "name": "stdout"
        }
      ]
    },
    {
      "cell_type": "code",
      "metadata": {
        "id": "MHGqruXVyH_N",
        "colab_type": "code",
        "outputId": "00f52782-490c-4602-e3f8-1471e9b82b3b",
        "colab": {
          "base_uri": "https://localhost:8080/",
          "height": 85
        }
      },
      "source": [
        "# import libraries\n",
        "import pandas as pd\n",
        "import numpy as np\n",
        "import progressbar\n",
        "from textblob import Blobber\n",
        "from textblob.sentiments import NaiveBayesAnalyzer\n",
        "import nltk\n",
        "nltk.download('movie_reviews')\n",
        "nltk.download('punkt')\n",
        "\n",
        "data = pd.read_pickle(\"/content/drive/My Drive/Dissertation/airbnb/cultural distance/data.pkl\")"
      ],
      "execution_count": 0,
      "outputs": [
        {
          "output_type": "stream",
          "text": [
            "[nltk_data] Downloading package movie_reviews to /root/nltk_data...\n",
            "[nltk_data]   Package movie_reviews is already up-to-date!\n",
            "[nltk_data] Downloading package punkt to /root/nltk_data...\n",
            "[nltk_data]   Package punkt is already up-to-date!\n"
          ],
          "name": "stdout"
        }
      ]
    },
    {
      "cell_type": "code",
      "metadata": {
        "id": "adZKPUg8l3Bq",
        "colab_type": "code",
        "colab": {}
      },
      "source": [
        "data['bayes_class'] = np.nan\n",
        "data['bayes_prob'] = \"\"\n",
        "tb = Blobber(analyzer=NaiveBayesAnalyzer())"
      ],
      "execution_count": 0,
      "outputs": []
    },
    {
      "cell_type": "code",
      "metadata": {
        "id": "kKETqvn2m2WO",
        "colab_type": "code",
        "outputId": "3a072599-587d-4845-a264-2bdb037697d8",
        "colab": {
          "base_uri": "https://localhost:8080/",
          "height": 34
        }
      },
      "source": [
        "with progressbar.ProgressBar(max_value=len(data)) as bar:\n",
        "    for i in range(14687, len(data)):\n",
        "        bar.update(i)\n",
        "        if str(data.translation[i])==\"nan\":\n",
        "            continue\n",
        "        else:\n",
        "            temp = tb(data.translation[i])\n",
        "            data.loc[i, 'bayes_class'] = temp.sentiment.classification\n",
        "            data.at[i, 'bayes_prob'] = [temp.sentiment.p_pos, temp.sentiment.p_neg]\n",
        "        if(i%100==0 or i==len(data)-1):\n",
        "            data.to_pickle(\"/content/drive/My Drive/Colab Notebooks/bayes_flair.pkl\")"
      ],
      "execution_count": 0,
      "outputs": [
        {
          "output_type": "stream",
          "text": [
            " 38% (187592 of 485578) |######          | Elapsed Time: 3:32:16 ETA:   6:45:43"
          ],
          "name": "stderr"
        }
      ]
    },
    {
      "cell_type": "code",
      "metadata": {
        "id": "OlAjoZfr_WY8",
        "colab_type": "code",
        "outputId": "e49a5101-e213-4e15-90db-f584363d890c",
        "colab": {
          "base_uri": "https://localhost:8080/",
          "height": 34
        }
      },
      "source": [
        "data['bayes_class'].index.get_loc(data['bayes_class'].last_valid_index())"
      ],
      "execution_count": 0,
      "outputs": [
        {
          "output_type": "execute_result",
          "data": {
            "text/plain": [
              "14687"
            ]
          },
          "metadata": {
            "tags": []
          },
          "execution_count": 6
        }
      ]
    },
    {
      "cell_type": "code",
      "metadata": {
        "id": "GGnd5Kf-6XCm",
        "colab_type": "code",
        "colab": {}
      },
      "source": [
        ""
      ],
      "execution_count": 0,
      "outputs": []
    },
    {
      "cell_type": "code",
      "metadata": {
        "id": "MywnOjMc6XFB",
        "colab_type": "code",
        "colab": {}
      },
      "source": [
        "!pip3 install flair\n",
        "!pip install --upgrade git+https://github.com/flairNLP/flair.git"
      ],
      "execution_count": 0,
      "outputs": []
    },
    {
      "cell_type": "code",
      "metadata": {
        "id": "Fh5az0ZI6XBl",
        "colab_type": "code",
        "colab": {}
      },
      "source": [
        "import flair\n",
        "from flair.data import Sentence\n",
        "from flair.models import TextClassifier"
      ],
      "execution_count": 0,
      "outputs": []
    },
    {
      "cell_type": "code",
      "metadata": {
        "id": "SBk6t4Y36XAQ",
        "colab_type": "code",
        "colab": {}
      },
      "source": [
        "data['flair'] = np.nan\n",
        "data['flair_prob'] = np.nan"
      ],
      "execution_count": 0,
      "outputs": []
    },
    {
      "cell_type": "code",
      "metadata": {
        "id": "fTOCwV-SoDYz",
        "colab_type": "code",
        "colab": {}
      },
      "source": [
        "sentences = data[data['translation'].notna()]\n",
        "temp = sentences\n",
        "sentences = sentences['translation'].tolist()\n",
        "\n",
        "classifier = TextClassifier.load('en-sentiment')"
      ],
      "execution_count": 0,
      "outputs": []
    },
    {
      "cell_type": "markdown",
      "metadata": {
        "id": "2wAm06NhEQS2",
        "colab_type": "text"
      },
      "source": [
        "# flair"
      ]
    },
    {
      "cell_type": "code",
      "metadata": {
        "id": "IWx2me9Hy7hu",
        "colab_type": "code",
        "colab": {}
      },
      "source": [
        "results = classifier.predict(sentences)\n",
        "with open(\"/content/drive/My Drive/Colab Notebooks/flair\", 'wb') as fp:\n",
        "    pickle.dump(results, fp)"
      ],
      "execution_count": 0,
      "outputs": []
    },
    {
      "cell_type": "code",
      "metadata": {
        "id": "F6kLqitR8Lez",
        "colab_type": "code",
        "colab": {}
      },
      "source": [
        "temp = temp[['unique','translation']]\n",
        "#run for loop then assing next cell variable to each row\n",
        "#then join temp to data using \"unique\""
      ],
      "execution_count": 0,
      "outputs": []
    },
    {
      "cell_type": "code",
      "metadata": {
        "id": "pIqRd1mx5Bqk",
        "colab_type": "code",
        "colab": {}
      },
      "source": [
        "results[0].labels\n",
        "str.split(str(results[0].labels[0]))[0]\n",
        "str.split(str(results[0].labels[0]))[1]"
      ],
      "execution_count": 0,
      "outputs": []
    },
    {
      "cell_type": "code",
      "metadata": {
        "id": "9KCh5CpPN3KS",
        "colab_type": "code",
        "colab": {}
      },
      "source": [
        "with open ('/content/drive/My Drive/Colab Notebooks/flair', 'rb') as fp:\n",
        "    itemlist = pickle.load(fp)"
      ],
      "execution_count": 0,
      "outputs": []
    }
  ]
}